{
  "nbformat": 4,
  "nbformat_minor": 0,
  "metadata": {
    "colab": {
      "name": "Franz_modulo_2_exercicios.ipynb",
      "provenance": [],
      "collapsed_sections": []
    },
    "kernelspec": {
      "name": "python3",
      "display_name": "Python 3"
    }
  },
  "cells": [
    {
      "cell_type": "markdown",
      "metadata": {
        "id": "KJqp9AANOCtf"
      },
      "source": [
        "<img src=\"https://raw.githubusercontent.com/andre-marcos-perez/ebac-course-utils/main/media/logo/newebac_logo_black_half.png\" alt=\"ebac-logo\">\n",
        "\n",
        "---\n",
        "\n",
        "# **Módulo 02** | Python: Estruturas de Dados\n",
        "Caderno de **Exercícios**<br> \n",
        "Professor [André Perez](https://www.linkedin.com/in/andremarcosperez/)\n",
        "\n",
        "---"
      ]
    },
    {
      "cell_type": "markdown",
      "metadata": {
        "id": "d9jDtUbDOE1-"
      },
      "source": [
        "# **Tópicos**\n",
        "\n",
        "<ol type=\"1\">\n",
        "  <li>Listas;</li>\n",
        "  <li>Conjuntos;</li>\n",
        "  <li>Dicionários.</li>\n",
        "</ol>"
      ]
    },
    {
      "cell_type": "markdown",
      "metadata": {
        "id": "SmoHgt-lwkpD"
      },
      "source": [
        "---"
      ]
    },
    {
      "cell_type": "markdown",
      "metadata": {
        "id": "GABI6OW8OfQ2"
      },
      "source": [
        "# **Exercícios**"
      ]
    },
    {
      "cell_type": "markdown",
      "metadata": {
        "id": "muD1vxozykSC"
      },
      "source": [
        "## 1\\. Listas"
      ]
    },
    {
      "cell_type": "markdown",
      "metadata": {
        "id": "ahrFfCuBxJKs"
      },
      "source": [
        "Criei uma lista chamada `filmes` com o nome dos 10 primeiros filmes mais bem avaliados no site no [IMDB](https://www.imdb.com/chart/top/). Imprima o resultado."
      ]
    },
    {
      "cell_type": "code",
      "metadata": {
        "id": "OgL6Hv3bzOHI",
        "colab": {
          "base_uri": "https://localhost:8080/"
        },
        "outputId": "554effe4-d602-467a-b025-a41498336901"
      },
      "source": [
        "filmes = ['Os Condenados de Shawshank (1994)', 'O Padrinho (1972)', 'O Cavaleiro das Trevas (2008)', 'O Padrinho: Parte II (1974)', 'Doze Homens em Fúria (1957)', 'A Lista de Schindler (1993)', 'O Senhor dos Anéis - O Regresso do Rei (2003)', 'Pulp Fiction (1994)', 'O Senhor dos Anéis - A Irmandade do Anel (2001)', 'O Bom, o Mau e o Vilão (1966)']\n",
        "print(filmes)"
      ],
      "execution_count": null,
      "outputs": [
        {
          "output_type": "stream",
          "name": "stdout",
          "text": [
            "['Os Condenados de Shawshank (1994)', 'O Padrinho (1972)', 'O Cavaleiro das Trevas (2008)', 'O Padrinho: Parte II (1974)', 'Doze Homens em Fúria (1957)', 'A Lista de Schindler (1993)', 'O Senhor dos Anéis - O Regresso do Rei (2003)', 'Pulp Fiction (1994)', 'O Senhor dos Anéis - A Irmandade do Anel (2001)', 'O Bom, o Mau e o Vilão (1966)']\n"
          ]
        }
      ]
    },
    {
      "cell_type": "markdown",
      "metadata": {
        "id": "KI9zQRT2xa7m"
      },
      "source": [
        "Simule a movimentação do *ranking*. Utilize os métodos `insert` e `pop` para trocar a posição do primeiro e do segundo filme da lista. Imprima o resultado.\n",
        "\n"
      ]
    },
    {
      "cell_type": "code",
      "source": [
        "filmes = ['Os Condenados de Shawshank (1994)', 'O Padrinho (1972)', 'O Cavaleiro das Trevas (2008)', 'O Padrinho: Parte II (1974)', 'Doze Homens em Fúria (1957)', 'A Lista de Schindler (1993)', 'O Senhor dos Anéis - O Regresso do Rei (2003)', 'Pulp Fiction (1994)', 'O Senhor dos Anéis - A Irmandade do Anel (2001)', 'O Bom, o Mau e o Vilão (1966)']\n",
        "print(filmes)\n",
        "filmes.pop(0)\n",
        "print(filmes)\n",
        "filmes.insert(1,'Os Condenados de Shawshank (1994)')\n",
        "print(filmes)"
      ],
      "metadata": {
        "colab": {
          "base_uri": "https://localhost:8080/"
        },
        "id": "Q6johj3VyLbZ",
        "outputId": "77d872af-a7d9-42d4-cd4a-3d9c6d12906d"
      },
      "execution_count": null,
      "outputs": [
        {
          "output_type": "stream",
          "name": "stdout",
          "text": [
            "['Os Condenados de Shawshank (1994)', 'O Padrinho (1972)', 'O Cavaleiro das Trevas (2008)', 'O Padrinho: Parte II (1974)', 'Doze Homens em Fúria (1957)', 'A Lista de Schindler (1993)', 'O Senhor dos Anéis - O Regresso do Rei (2003)', 'Pulp Fiction (1994)', 'O Senhor dos Anéis - A Irmandade do Anel (2001)', 'O Bom, o Mau e o Vilão (1966)']\n",
            "['O Padrinho (1972)', 'O Cavaleiro das Trevas (2008)', 'O Padrinho: Parte II (1974)', 'Doze Homens em Fúria (1957)', 'A Lista de Schindler (1993)', 'O Senhor dos Anéis - O Regresso do Rei (2003)', 'Pulp Fiction (1994)', 'O Senhor dos Anéis - A Irmandade do Anel (2001)', 'O Bom, o Mau e o Vilão (1966)']\n",
            "['O Padrinho (1972)', 'Os Condenados de Shawshank (1994)', 'O Cavaleiro das Trevas (2008)', 'O Padrinho: Parte II (1974)', 'Doze Homens em Fúria (1957)', 'A Lista de Schindler (1993)', 'O Senhor dos Anéis - O Regresso do Rei (2003)', 'Pulp Fiction (1994)', 'O Senhor dos Anéis - A Irmandade do Anel (2001)', 'O Bom, o Mau e o Vilão (1966)']\n"
          ]
        }
      ]
    },
    {
      "cell_type": "markdown",
      "source": [
        ""
      ],
      "metadata": {
        "id": "Jth8hETXyKUd"
      }
    },
    {
      "cell_type": "markdown",
      "metadata": {
        "id": "lxa5L6uF0ZJE"
      },
      "source": [
        "## 2\\. Conjuntos"
      ]
    },
    {
      "cell_type": "markdown",
      "metadata": {
        "id": "9JahS2Kj0d5u"
      },
      "source": [
        "Aconteceu um erro no seu *ranking*. Simule a duplicação dos três últimos filmes da lista. Imprima o resultado."
      ]
    },
    {
      "cell_type": "code",
      "metadata": {
        "id": "BnjnLBNC6PGe",
        "colab": {
          "base_uri": "https://localhost:8080/"
        },
        "outputId": "34aba004-df5d-43d8-a14a-d9a79e939769"
      },
      "source": [
        "filmes = ['Os Condenados de Shawshank (1994)', 'O Padrinho (1972)', 'O Cavaleiro das Trevas (2008)', 'O Padrinho: Parte II (1974)', 'Doze Homens em Fúria (1957)', 'A Lista de Schindler (1993)', 'O Senhor dos Anéis - O Regresso do Rei (2003)', 'Pulp Fiction (1994)', 'O Senhor dos Anéis - A Irmandade do Anel (2001)', 'O Bom, o Mau e o Vilão (1966)']\n",
        "print(filmes)\n",
        "filmes.insert(11,'Pulp Fiction (1994)')\n",
        "filmes.insert(12, 'O Senhor dos Anéis - A Irmandade do Anel (2001)')\n",
        "filmes.insert(13, 'O Bom, o Mau e o Vilão (1966)')\n",
        "print(filmes)"
      ],
      "execution_count": 8,
      "outputs": [
        {
          "output_type": "stream",
          "name": "stdout",
          "text": [
            "['Os Condenados de Shawshank (1994)', 'O Padrinho (1972)', 'O Cavaleiro das Trevas (2008)', 'O Padrinho: Parte II (1974)', 'Doze Homens em Fúria (1957)', 'A Lista de Schindler (1993)', 'O Senhor dos Anéis - O Regresso do Rei (2003)', 'Pulp Fiction (1994)', 'O Senhor dos Anéis - A Irmandade do Anel (2001)', 'O Bom, o Mau e o Vilão (1966)']\n",
            "['Os Condenados de Shawshank (1994)', 'O Padrinho (1972)', 'O Cavaleiro das Trevas (2008)', 'O Padrinho: Parte II (1974)', 'Doze Homens em Fúria (1957)', 'A Lista de Schindler (1993)', 'O Senhor dos Anéis - O Regresso do Rei (2003)', 'Pulp Fiction (1994)', 'O Senhor dos Anéis - A Irmandade do Anel (2001)', 'O Bom, o Mau e o Vilão (1966)', 'Pulp Fiction (1994)', 'O Senhor dos Anéis - A Irmandade do Anel (2001)', 'O Bom, o Mau e o Vilão (1966)']\n"
          ]
        }
      ]
    },
    {
      "cell_type": "markdown",
      "metadata": {
        "id": "suxTfCJB6ZiX"
      },
      "source": [
        "Utiliza a conversão `set` e `list` para remover os valores duplicados. Imprima o resultado. "
      ]
    },
    {
      "cell_type": "code",
      "metadata": {
        "id": "ZvUGN-0n6joM",
        "colab": {
          "base_uri": "https://localhost:8080/"
        },
        "outputId": "3b66f9c6-b0a3-416f-b0b1-2aa174392035"
      },
      "source": [
        "filmes = {'Os Condenados de Shawshank (1994)', 'O Padrinho (1972)', 'O Cavaleiro das Trevas (2008)', 'O Padrinho: Parte II (1974)', 'Doze Homens em Fúria (1957)', 'A Lista de Schindler (1993)', 'O Senhor dos Anéis - O Regresso do Rei (2003)', 'Pulp Fiction (1994)', 'O Senhor dos Anéis - A Irmandade do Anel (2001)', 'O Bom, o Mau e o Vilão (1966)'}\n",
        "print(type(filmes))\n",
        "filmes.add('Pulp Fiction (1994)')\n",
        "filmes.add('O Senhor dos Anéis - A Irmandade do Anel (2001)')\n",
        "filmes.add('O Bom, o Mau e o Vilão (1966)')\n",
        "print(set(filmes))\n",
        "filmes.remove('Pulp Fiction (1994)')\n",
        "filmes.remove('O Senhor dos Anéis - A Irmandade do Anel (2001)')\n",
        "filmes.remove('O Bom, o Mau e o Vilão (1966)')\n",
        "print(list(filmes))"
      ],
      "execution_count": 11,
      "outputs": [
        {
          "output_type": "stream",
          "name": "stdout",
          "text": [
            "<class 'set'>\n",
            "{'O Padrinho (1972)', 'O Padrinho: Parte II (1974)', 'O Cavaleiro das Trevas (2008)', 'Doze Homens em Fúria (1957)', 'O Senhor dos Anéis - O Regresso do Rei (2003)', 'O Senhor dos Anéis - A Irmandade do Anel (2001)', 'Os Condenados de Shawshank (1994)', 'Pulp Fiction (1994)', 'O Bom, o Mau e o Vilão (1966)', 'A Lista de Schindler (1993)'}\n",
            "['O Padrinho (1972)', 'O Padrinho: Parte II (1974)', 'O Cavaleiro das Trevas (2008)', 'Doze Homens em Fúria (1957)', 'O Senhor dos Anéis - O Regresso do Rei (2003)', 'Os Condenados de Shawshank (1994)', 'A Lista de Schindler (1993)']\n"
          ]
        }
      ]
    },
    {
      "cell_type": "markdown",
      "metadata": {
        "id": "ShkK35eQ6pAM"
      },
      "source": [
        "---"
      ]
    },
    {
      "cell_type": "markdown",
      "metadata": {
        "id": "EL_FzmxL6rTv"
      },
      "source": [
        "## 3\\. Dicionários"
      ]
    },
    {
      "cell_type": "markdown",
      "metadata": {
        "id": "i8l0gFqRCpfT"
      },
      "source": [
        "Repita os exercícios da parte 1 (listas). Os elementos da lista `filmes` devem ser dicionários no seguinte formato: `{'nome': <nome-do-filme>, 'ano': <ano do filme>}, 'sinopse': <sinopse do filme>}`. "
      ]
    },
    {
      "cell_type": "code",
      "source": [
        "filmes = []\n",
        "filme = {\n",
        "    'nome': 'Os Condenados de Shawshank',\n",
        "    'ano': '1994',\n",
        "    'sinopse':'Two imprisoned men bond over a number of years, finding solace and eventual redemption through acts of common decency.'}\n",
        "filmes.append(filme)\n",
        "\n",
        "filme = {\n",
        "    'nome': 'O Padrinho',\n",
        "    'ano': '1972',\n",
        "    'sinopse':'The aging patriarch of an organized crime dynasty in postwar New York City transfers control of his clandestine empire to his reluctant youngest son.'}\n",
        "filmes.append(filme)\n",
        "\n",
        "filme = {\n",
        "    'nome': 'O Cavaleiro das Trevas',\n",
        "    'ano': '2008',\n",
        "    'sinopse':'When the menace known as the Joker wreaks havoc and chaos on the people of Gotham, Batman must accept one of the greatest psychological and physical tests of his ability to fight injustice.'}\n",
        "filmes.append(filme)\n",
        "\n",
        "filme = {\n",
        "    'nome': 'O Padrinho: Parte II',\n",
        "    'ano': '1974',\n",
        "    'sinopse':'The early life and career of Vito Corleone in 1920s New York City is portrayed, while his son, Michael, expands and tightens his grip on the family crime syndicate.'}\n",
        "filmes.append(filme)\n",
        "\n",
        "filme = {\n",
        "    'nome': 'Doze Homens em Fúria',\n",
        "    'ano': '1957',\n",
        "    'sinopse':'The jury in a New York City murder trial is frustrated by a single member whose skeptical caution forces them to more carefully consider the evidence before jumping to a hasty verdict.'}\n",
        "filmes.append(filme)\n",
        "\n",
        "filme = {\n",
        "    'nome': 'A Lista de Schindler',\n",
        "    'ano': '1993',\n",
        "    'sinopse':'In German-occupied Poland during World War II, industrialist Oskar Schindler gradually becomes concerned for his Jewish workforce after witnessing their persecution by the Nazis.'}\n",
        "filmes.append(filme)\n",
        "\n",
        "filme = {\n",
        "    'nome': 'O Senhor dos Anéis - O Regresso do Rei',\n",
        "    'ano': '2003',\n",
        "    'sinopse':'Gandalf and Aragorn lead the World of Men against Saurons army to draw his gaze from Frodo and Sam as they approach Mount Doom with the One Ring.'}\n",
        "filmes.append(filme)\n",
        "\n",
        "filme = {\n",
        "    'nome': 'Pulp Fiction',\n",
        "    'ano': '1994',\n",
        "    'sinopse':'The lives of two mob hitmen, a boxer, a gangster and his wife, and a pair of diner bandits intertwine in four tales of violence and redemption.'}\n",
        "filmes.append(filme)\n",
        "\n",
        "filme = {\n",
        "    'nome': 'O Senhor dos Anéis - A Irmandade do Anel',\n",
        "    'ano': '2001',\n",
        "    'sinopse':'A meek Hobbit from the Shire and eight companions set out on a journey to destroy the powerful One Ring and save Middle-earth from the Dark Lord Sauron.'}\n",
        "filmes.append(filme)\n",
        "\n",
        "filme = {\n",
        "    'nome': 'O Bom, o Mau e o Vilão',\n",
        "    'ano': '1966',\n",
        "    'sinopse':'A bounty hunting scam joins two men in an uneasy alliance against a third in a race to find a fortune in gold buried in a remote cemetery.'}\n",
        "filmes.append(filme)\n",
        "\n",
        "print(filmes)"
      ],
      "metadata": {
        "colab": {
          "base_uri": "https://localhost:8080/"
        },
        "id": "yHGe3kpZ3XYd",
        "outputId": "13bd514b-99b7-4658-c274-074aa3b7261b"
      },
      "execution_count": null,
      "outputs": [
        {
          "output_type": "stream",
          "name": "stdout",
          "text": [
            "[{'nome': 'Os Condenados de Shawshank', 'ano': '1994', 'sinopse': 'Two imprisoned men bond over a number of years, finding solace and eventual redemption through acts of common decency.'}, {'nome': 'O Padrinho', 'ano': '1972', 'sinopse': 'The aging patriarch of an organized crime dynasty in postwar New York City transfers control of his clandestine empire to his reluctant youngest son.'}, {'nome': 'O Cavaleiro das Trevas', 'ano': '2008', 'sinopse': 'When the menace known as the Joker wreaks havoc and chaos on the people of Gotham, Batman must accept one of the greatest psychological and physical tests of his ability to fight injustice.'}, {'nome': 'O Padrinho: Parte II', 'ano': '1974', 'sinopse': 'The early life and career of Vito Corleone in 1920s New York City is portrayed, while his son, Michael, expands and tightens his grip on the family crime syndicate.'}, {'nome': 'Doze Homens em Fúria', 'ano': '1957', 'sinopse': 'The jury in a New York City murder trial is frustrated by a single member whose skeptical caution forces them to more carefully consider the evidence before jumping to a hasty verdict.'}, {'nome': 'A Lista de Schindler', 'ano': '1993', 'sinopse': 'In German-occupied Poland during World War II, industrialist Oskar Schindler gradually becomes concerned for his Jewish workforce after witnessing their persecution by the Nazis.'}, {'nome': 'O Senhor dos Anéis - O Regresso do Rei', 'ano': '2003', 'sinopse': 'Gandalf and Aragorn lead the World of Men against Saurons army to draw his gaze from Frodo and Sam as they approach Mount Doom with the One Ring.'}, {'nome': 'Pulp Fiction', 'ano': '1994', 'sinopse': 'The lives of two mob hitmen, a boxer, a gangster and his wife, and a pair of diner bandits intertwine in four tales of violence and redemption.'}, {'nome': 'O Senhor dos Anéis - A Irmandade do Anel', 'ano': '2001', 'sinopse': 'A meek Hobbit from the Shire and eight companions set out on a journey to destroy the powerful One Ring and save Middle-earth from the Dark Lord Sauron.'}, {'nome': 'O Bom, o Mau e o Vilão', 'ano': '1966', 'sinopse': 'A bounty hunting scam joins two men in an uneasy alliance against a third in a race to find a fortune in gold buried in a remote cemetery.'}]\n"
          ]
        }
      ]
    }
  ]
}